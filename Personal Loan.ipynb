{
  "nbformat": 4,
  "nbformat_minor": 0,
  "metadata": {
    "colab": {
      "name": "InternshipStudio.ipynb",
      "provenance": [],
      "collapsed_sections": [
        "YoYI3iCqJ2ln",
        "Txf7gp1diO8s"
      ]
    },
    "kernelspec": {
      "name": "python3",
      "display_name": "Python 3"
    }
  },
  "cells": [
    {
      "cell_type": "markdown",
      "metadata": {
        "id": "qbglcXETLx3B",
        "colab_type": "text"
      },
      "source": [
        "# **Marketing Campaign for Banking Products**"
      ]
    },
    {
      "cell_type": "markdown",
      "metadata": {
        "id": "FWlTzCKdL1om",
        "colab_type": "text"
      },
      "source": [
        "**Introduction to the Bank Personal Loan dataset:**"
      ]
    },
    {
      "cell_type": "markdown",
      "metadata": {
        "id": "TMzoBdC6Marg",
        "colab_type": "text"
      },
      "source": [
        "The file Bank.xls contains data on 5000 customers. The data include customer\n",
        "demographic information (age, income, etc.), the customer's relationship with the bank\n",
        "(mortgage, securities account, etc.), and the customer response to the last personal\n",
        "loan campaign (Personal Loan). "
      ]
    },
    {
      "cell_type": "markdown",
      "metadata": {
        "id": "zddIyWN3Mr71",
        "colab_type": "text"
      },
      "source": [
        "**A Little Overview of the dataset:**"
      ]
    },
    {
      "cell_type": "markdown",
      "metadata": {
        "id": "bxQbDi8xMwb0",
        "colab_type": "text"
      },
      "source": [
        "We get **14 variables** in total of which:\n",
        "\n",
        "*   **4 are continuous**\n",
        "*   **2 are discrete**\n",
        "*   **8 are cotegorical** "
      ]
    },
    {
      "cell_type": "markdown",
      "metadata": {
        "id": "zhMLdknfNGMM",
        "colab_type": "text"
      },
      "source": [
        "**Problem Statement Definition**"
      ]
    },
    {
      "cell_type": "markdown",
      "metadata": {
        "id": "maZP8H_DOoVg",
        "colab_type": "text"
      },
      "source": [
        "The bank has a growing customer base. **The bank wants to increase borrowers (asset customers)**  base to bring in more loan business and earn more through the interest on loans. So ,the bank wants to convert the liability based customers to personal loan customers.**The department wants you to build a model that will help them identify the potential customers who have a higher probability of purchasing the loan.** This will increase the success ratio while at the same time reduce the cost of the campaign."
      ]
    },
    {
      "cell_type": "markdown",
      "metadata": {
        "id": "yRO6deSjRR0M",
        "colab_type": "text"
      },
      "source": [
        "**Machine Learning Methodology – step by step**"
      ]
    },
    {
      "cell_type": "markdown",
      "metadata": {
        "id": "CPecIYuNRS6C",
        "colab_type": "text"
      },
      "source": [
        "We will follow these steps:\n",
        "\n",
        "1.   Importing dataset and libraries\n",
        "2.   Data cleaning and formatting\n",
        "3.   EDA (Exploratory Data Analysis)\n",
        "4.   Feature Engineering\n",
        "5.   Training our model\n",
        "6.   Building various other classification algorithms\n",
        "7.   Compairing the performance of our models\n",
        "8.   Business understanding of our model"
      ]
    },
    {
      "cell_type": "markdown",
      "metadata": {
        "id": "YoYI3iCqJ2ln",
        "colab_type": "text"
      },
      "source": [
        "# **1- Importing the dataset and libraries**"
      ]
    },
    {
      "cell_type": "code",
      "metadata": {
        "id": "fcpZjgwFu2U3",
        "colab_type": "code",
        "colab": {}
      },
      "source": [
        "import numpy as np\n",
        "import pandas as pd\n",
        "import seaborn as sns\n",
        "import matplotlib.pyplot as plt      \n",
        "%matplotlib inline\n",
        "\n",
        "from numpy import cov\n",
        "from scipy import stats\n",
        "from sklearn import metrics\n",
        "\n",
        "from sklearn.model_selection import train_test_split\n",
        "from sklearn.preprocessing import PowerTransformer\n",
        "\n",
        "from sklearn.linear_model import LogisticRegression\n",
        "from sklearn.ensemble import RandomForestClassifier\n",
        "from sklearn.tree import DecisionTreeClassifier "
      ],
      "execution_count": 157,
      "outputs": []
    },
    {
      "cell_type": "code",
      "metadata": {
        "id": "npK0iGFafEMG",
        "colab_type": "code",
        "colab": {}
      },
      "source": [
        "#from google.colab import files\n",
        "#uploaded=files.upload()"
      ],
      "execution_count": 158,
      "outputs": []
    },
    {
      "cell_type": "markdown",
      "metadata": {
        "id": "BEKoI9WwhRKu",
        "colab_type": "text"
      },
      "source": [
        "**Reading our dataset**"
      ]
    },
    {
      "cell_type": "code",
      "metadata": {
        "id": "pvJr5zIaFiLk",
        "colab_type": "code",
        "colab": {
          "base_uri": "https://localhost:8080/",
          "height": 0
        },
        "outputId": "ca189713-08c1-4403-8e1b-f2b7179e4f2c"
      },
      "source": [
        "# Reading the .csv file consisting of the bank records\n",
        "df=pd.read_csv(r'/content/Loan_Modelling.csv')\n",
        "print(df)"
      ],
      "execution_count": 159,
      "outputs": [
        {
          "output_type": "stream",
          "text": [
            "        ID  Age  Experience  ...  CD Account  Online  CreditCard\n",
            "0        1   25           1  ...           0       0           0\n",
            "1        2   45          19  ...           0       0           0\n",
            "2        3   39          15  ...           0       0           0\n",
            "3        4   35           9  ...           0       0           0\n",
            "4        5   35           8  ...           0       0           1\n",
            "...    ...  ...         ...  ...         ...     ...         ...\n",
            "4995  4996   29           3  ...           0       1           0\n",
            "4996  4997   30           4  ...           0       1           0\n",
            "4997  4998   63          39  ...           0       0           0\n",
            "4998  4999   65          40  ...           0       1           0\n",
            "4999  5000   28           4  ...           0       1           1\n",
            "\n",
            "[5000 rows x 14 columns]\n"
          ],
          "name": "stdout"
        }
      ]
    },
    {
      "cell_type": "markdown",
      "metadata": {
        "id": "Txf7gp1diO8s",
        "colab_type": "text"
      },
      "source": [
        "# **2- Data cleaning and formatting**"
      ]
    },
    {
      "cell_type": "markdown",
      "metadata": {
        "id": "2e5W0br7jAVj",
        "colab_type": "text"
      },
      "source": [
        "In data cleaning and formatting will especially take care of:\n",
        "\n",
        "*   Missing values\n",
        "*   Wrong values\n",
        "*   Wrong datatypes\n",
        "*   Outliers \n"
      ]
    },
    {
      "cell_type": "code",
      "metadata": {
        "id": "62WR99f9IcUJ",
        "colab_type": "code",
        "colab": {
          "base_uri": "https://localhost:8080/",
          "height": 374
        },
        "outputId": "93c9677e-5f65-432a-8b46-4d5a2711618f"
      },
      "source": [
        "df.info()"
      ],
      "execution_count": 160,
      "outputs": [
        {
          "output_type": "stream",
          "text": [
            "<class 'pandas.core.frame.DataFrame'>\n",
            "RangeIndex: 5000 entries, 0 to 4999\n",
            "Data columns (total 14 columns):\n",
            " #   Column              Non-Null Count  Dtype  \n",
            "---  ------              --------------  -----  \n",
            " 0   ID                  5000 non-null   int64  \n",
            " 1   Age                 5000 non-null   int64  \n",
            " 2   Experience          5000 non-null   int64  \n",
            " 3   Income              5000 non-null   int64  \n",
            " 4   ZIP Code            5000 non-null   int64  \n",
            " 5   Family              5000 non-null   int64  \n",
            " 6   CCAvg               5000 non-null   float64\n",
            " 7   Education           5000 non-null   int64  \n",
            " 8   Mortgage            5000 non-null   int64  \n",
            " 9   Personal Loan       5000 non-null   int64  \n",
            " 10  Securities Account  5000 non-null   int64  \n",
            " 11  CD Account          5000 non-null   int64  \n",
            " 12  Online              5000 non-null   int64  \n",
            " 13  CreditCard          5000 non-null   int64  \n",
            "dtypes: float64(1), int64(13)\n",
            "memory usage: 547.0 KB\n"
          ],
          "name": "stdout"
        }
      ]
    },
    {
      "cell_type": "code",
      "metadata": {
        "id": "L9JrFP6vGenP",
        "colab_type": "code",
        "colab": {
          "base_uri": "https://localhost:8080/",
          "height": 334
        },
        "outputId": "f3a1246a-f0f2-4d7c-c808-a673f56ee582"
      },
      "source": [
        "df.describe()"
      ],
      "execution_count": 161,
      "outputs": [
        {
          "output_type": "execute_result",
          "data": {
            "text/html": [
              "<div>\n",
              "<style scoped>\n",
              "    .dataframe tbody tr th:only-of-type {\n",
              "        vertical-align: middle;\n",
              "    }\n",
              "\n",
              "    .dataframe tbody tr th {\n",
              "        vertical-align: top;\n",
              "    }\n",
              "\n",
              "    .dataframe thead th {\n",
              "        text-align: right;\n",
              "    }\n",
              "</style>\n",
              "<table border=\"1\" class=\"dataframe\">\n",
              "  <thead>\n",
              "    <tr style=\"text-align: right;\">\n",
              "      <th></th>\n",
              "      <th>ID</th>\n",
              "      <th>Age</th>\n",
              "      <th>Experience</th>\n",
              "      <th>Income</th>\n",
              "      <th>ZIP Code</th>\n",
              "      <th>Family</th>\n",
              "      <th>CCAvg</th>\n",
              "      <th>Education</th>\n",
              "      <th>Mortgage</th>\n",
              "      <th>Personal Loan</th>\n",
              "      <th>Securities Account</th>\n",
              "      <th>CD Account</th>\n",
              "      <th>Online</th>\n",
              "      <th>CreditCard</th>\n",
              "    </tr>\n",
              "  </thead>\n",
              "  <tbody>\n",
              "    <tr>\n",
              "      <th>count</th>\n",
              "      <td>5000.000000</td>\n",
              "      <td>5000.000000</td>\n",
              "      <td>5000.000000</td>\n",
              "      <td>5000.000000</td>\n",
              "      <td>5000.000000</td>\n",
              "      <td>5000.000000</td>\n",
              "      <td>5000.000000</td>\n",
              "      <td>5000.000000</td>\n",
              "      <td>5000.000000</td>\n",
              "      <td>5000.000000</td>\n",
              "      <td>5000.000000</td>\n",
              "      <td>5000.00000</td>\n",
              "      <td>5000.000000</td>\n",
              "      <td>5000.000000</td>\n",
              "    </tr>\n",
              "    <tr>\n",
              "      <th>mean</th>\n",
              "      <td>2500.500000</td>\n",
              "      <td>45.338400</td>\n",
              "      <td>20.104600</td>\n",
              "      <td>73.774200</td>\n",
              "      <td>93152.503000</td>\n",
              "      <td>2.396400</td>\n",
              "      <td>1.937938</td>\n",
              "      <td>1.881000</td>\n",
              "      <td>56.498800</td>\n",
              "      <td>0.096000</td>\n",
              "      <td>0.104400</td>\n",
              "      <td>0.06040</td>\n",
              "      <td>0.596800</td>\n",
              "      <td>0.294000</td>\n",
              "    </tr>\n",
              "    <tr>\n",
              "      <th>std</th>\n",
              "      <td>1443.520003</td>\n",
              "      <td>11.463166</td>\n",
              "      <td>11.467954</td>\n",
              "      <td>46.033729</td>\n",
              "      <td>2121.852197</td>\n",
              "      <td>1.147663</td>\n",
              "      <td>1.747659</td>\n",
              "      <td>0.839869</td>\n",
              "      <td>101.713802</td>\n",
              "      <td>0.294621</td>\n",
              "      <td>0.305809</td>\n",
              "      <td>0.23825</td>\n",
              "      <td>0.490589</td>\n",
              "      <td>0.455637</td>\n",
              "    </tr>\n",
              "    <tr>\n",
              "      <th>min</th>\n",
              "      <td>1.000000</td>\n",
              "      <td>23.000000</td>\n",
              "      <td>-3.000000</td>\n",
              "      <td>8.000000</td>\n",
              "      <td>9307.000000</td>\n",
              "      <td>1.000000</td>\n",
              "      <td>0.000000</td>\n",
              "      <td>1.000000</td>\n",
              "      <td>0.000000</td>\n",
              "      <td>0.000000</td>\n",
              "      <td>0.000000</td>\n",
              "      <td>0.00000</td>\n",
              "      <td>0.000000</td>\n",
              "      <td>0.000000</td>\n",
              "    </tr>\n",
              "    <tr>\n",
              "      <th>25%</th>\n",
              "      <td>1250.750000</td>\n",
              "      <td>35.000000</td>\n",
              "      <td>10.000000</td>\n",
              "      <td>39.000000</td>\n",
              "      <td>91911.000000</td>\n",
              "      <td>1.000000</td>\n",
              "      <td>0.700000</td>\n",
              "      <td>1.000000</td>\n",
              "      <td>0.000000</td>\n",
              "      <td>0.000000</td>\n",
              "      <td>0.000000</td>\n",
              "      <td>0.00000</td>\n",
              "      <td>0.000000</td>\n",
              "      <td>0.000000</td>\n",
              "    </tr>\n",
              "    <tr>\n",
              "      <th>50%</th>\n",
              "      <td>2500.500000</td>\n",
              "      <td>45.000000</td>\n",
              "      <td>20.000000</td>\n",
              "      <td>64.000000</td>\n",
              "      <td>93437.000000</td>\n",
              "      <td>2.000000</td>\n",
              "      <td>1.500000</td>\n",
              "      <td>2.000000</td>\n",
              "      <td>0.000000</td>\n",
              "      <td>0.000000</td>\n",
              "      <td>0.000000</td>\n",
              "      <td>0.00000</td>\n",
              "      <td>1.000000</td>\n",
              "      <td>0.000000</td>\n",
              "    </tr>\n",
              "    <tr>\n",
              "      <th>75%</th>\n",
              "      <td>3750.250000</td>\n",
              "      <td>55.000000</td>\n",
              "      <td>30.000000</td>\n",
              "      <td>98.000000</td>\n",
              "      <td>94608.000000</td>\n",
              "      <td>3.000000</td>\n",
              "      <td>2.500000</td>\n",
              "      <td>3.000000</td>\n",
              "      <td>101.000000</td>\n",
              "      <td>0.000000</td>\n",
              "      <td>0.000000</td>\n",
              "      <td>0.00000</td>\n",
              "      <td>1.000000</td>\n",
              "      <td>1.000000</td>\n",
              "    </tr>\n",
              "    <tr>\n",
              "      <th>max</th>\n",
              "      <td>5000.000000</td>\n",
              "      <td>67.000000</td>\n",
              "      <td>43.000000</td>\n",
              "      <td>224.000000</td>\n",
              "      <td>96651.000000</td>\n",
              "      <td>4.000000</td>\n",
              "      <td>10.000000</td>\n",
              "      <td>3.000000</td>\n",
              "      <td>635.000000</td>\n",
              "      <td>1.000000</td>\n",
              "      <td>1.000000</td>\n",
              "      <td>1.00000</td>\n",
              "      <td>1.000000</td>\n",
              "      <td>1.000000</td>\n",
              "    </tr>\n",
              "  </tbody>\n",
              "</table>\n",
              "</div>"
            ],
            "text/plain": [
              "                ID          Age  ...       Online   CreditCard\n",
              "count  5000.000000  5000.000000  ...  5000.000000  5000.000000\n",
              "mean   2500.500000    45.338400  ...     0.596800     0.294000\n",
              "std    1443.520003    11.463166  ...     0.490589     0.455637\n",
              "min       1.000000    23.000000  ...     0.000000     0.000000\n",
              "25%    1250.750000    35.000000  ...     0.000000     0.000000\n",
              "50%    2500.500000    45.000000  ...     1.000000     0.000000\n",
              "75%    3750.250000    55.000000  ...     1.000000     1.000000\n",
              "max    5000.000000    67.000000  ...     1.000000     1.000000\n",
              "\n",
              "[8 rows x 14 columns]"
            ]
          },
          "metadata": {
            "tags": []
          },
          "execution_count": 161
        }
      ]
    },
    {
      "cell_type": "code",
      "metadata": {
        "id": "vuD-8kJDKOQ7",
        "colab_type": "code",
        "colab": {
          "base_uri": "https://localhost:8080/",
          "height": 34
        },
        "outputId": "e747009f-4c43-462e-8593-f9012cff7569"
      },
      "source": [
        "# Checking the overall structure of the dataset.\n",
        "df.shape"
      ],
      "execution_count": 162,
      "outputs": [
        {
          "output_type": "execute_result",
          "data": {
            "text/plain": [
              "(5000, 14)"
            ]
          },
          "metadata": {
            "tags": []
          },
          "execution_count": 162
        }
      ]
    },
    {
      "cell_type": "markdown",
      "metadata": {
        "id": "PsKsOZVrl-RW",
        "colab_type": "text"
      },
      "source": [
        "**Checking for missing values**"
      ]
    },
    {
      "cell_type": "code",
      "metadata": {
        "id": "k66DfmebJd4U",
        "colab_type": "code",
        "colab": {
          "base_uri": "https://localhost:8080/",
          "height": 272
        },
        "outputId": "e1a4f4d7-d929-41f8-a613-cf01a28452a3"
      },
      "source": [
        "# Checking for any null values.\n",
        "df.isnull().sum()"
      ],
      "execution_count": 163,
      "outputs": [
        {
          "output_type": "execute_result",
          "data": {
            "text/plain": [
              "ID                    0\n",
              "Age                   0\n",
              "Experience            0\n",
              "Income                0\n",
              "ZIP Code              0\n",
              "Family                0\n",
              "CCAvg                 0\n",
              "Education             0\n",
              "Mortgage              0\n",
              "Personal Loan         0\n",
              "Securities Account    0\n",
              "CD Account            0\n",
              "Online                0\n",
              "CreditCard            0\n",
              "dtype: int64"
            ]
          },
          "metadata": {
            "tags": []
          },
          "execution_count": 163
        }
      ]
    },
    {
      "cell_type": "markdown",
      "metadata": {
        "id": "33DEV8gxmEG-",
        "colab_type": "text"
      },
      "source": [
        "**Checking the datatypes of variables**"
      ]
    },
    {
      "cell_type": "code",
      "metadata": {
        "id": "wtw0ytHGDzf-",
        "colab_type": "code",
        "colab": {
          "base_uri": "https://localhost:8080/",
          "height": 272
        },
        "outputId": "5576adda-9c21-4f25-ca26-6da8d2a32b90"
      },
      "source": [
        "# Checking the data types of all variables.\n",
        "df.dtypes"
      ],
      "execution_count": 164,
      "outputs": [
        {
          "output_type": "execute_result",
          "data": {
            "text/plain": [
              "ID                      int64\n",
              "Age                     int64\n",
              "Experience              int64\n",
              "Income                  int64\n",
              "ZIP Code                int64\n",
              "Family                  int64\n",
              "CCAvg                 float64\n",
              "Education               int64\n",
              "Mortgage                int64\n",
              "Personal Loan           int64\n",
              "Securities Account      int64\n",
              "CD Account              int64\n",
              "Online                  int64\n",
              "CreditCard              int64\n",
              "dtype: object"
            ]
          },
          "metadata": {
            "tags": []
          },
          "execution_count": 164
        }
      ]
    },
    {
      "cell_type": "markdown",
      "metadata": {
        "id": "UzVEzcfvmK2t",
        "colab_type": "text"
      },
      "source": [
        "**Taking care of wrong values**"
      ]
    },
    {
      "cell_type": "markdown",
      "metadata": {
        "id": "zkYdKD_XkR3z",
        "colab_type": "text"
      },
      "source": [
        "*Experience cannot be negative, so we handle the incorrect experience records by replacing them with the median value.*"
      ]
    },
    {
      "cell_type": "code",
      "metadata": {
        "id": "uT14mQgBJsvE",
        "colab_type": "code",
        "colab": {
          "base_uri": "https://localhost:8080/",
          "height": 255
        },
        "outputId": "dbfffa1a-3efe-4312-a2b2-405cb024022a"
      },
      "source": [
        "exp_median=df['Experience'].median()\n",
        "for i in range(df.shape[0]): \n",
        "  if df.Experience.iloc[i]<0:\n",
        "    df.Experience.iloc[i]=exp_median\n",
        "\n",
        "df['Experience'].describe()"
      ],
      "execution_count": 166,
      "outputs": [
        {
          "output_type": "stream",
          "text": [
            "/usr/local/lib/python3.6/dist-packages/pandas/core/indexing.py:671: SettingWithCopyWarning: \n",
            "A value is trying to be set on a copy of a slice from a DataFrame\n",
            "\n",
            "See the caveats in the documentation: https://pandas.pydata.org/pandas-docs/stable/user_guide/indexing.html#returning-a-view-versus-a-copy\n",
            "  self._setitem_with_indexer(indexer, value)\n"
          ],
          "name": "stderr"
        },
        {
          "output_type": "execute_result",
          "data": {
            "text/plain": [
              "count    5000.000000\n",
              "mean       20.327600\n",
              "std        11.253035\n",
              "min         0.000000\n",
              "25%        11.000000\n",
              "50%        20.000000\n",
              "75%        30.000000\n",
              "max        43.000000\n",
              "Name: Experience, dtype: float64"
            ]
          },
          "metadata": {
            "tags": []
          },
          "execution_count": 166
        }
      ]
    },
    {
      "cell_type": "code",
      "metadata": {
        "id": "jbPqZx24-3rZ",
        "colab_type": "code",
        "colab": {}
      },
      "source": [
        "covariance=cov(df['Experience'],df['Age'])\n",
        "print(covariance)"
      ],
      "execution_count": null,
      "outputs": []
    },
    {
      "cell_type": "code",
      "metadata": {
        "id": "OQKLpHe9AI2d",
        "colab_type": "code",
        "colab": {}
      },
      "source": [
        "# Making a scatter plot betwwen Experience and Age variables.\n",
        "Age_v_Exp=plt.scatter(df['Age'],df['Experience'],c='Cyan',edgecolors='Black')\n",
        "plt.title('Age-Experience Graph')\n",
        "plt.xlabel('Age')\n",
        "plt.ylabel('Experience')\n",
        "plt.grid(True)"
      ],
      "execution_count": null,
      "outputs": []
    },
    {
      "cell_type": "markdown",
      "metadata": {
        "id": "My6R5zQ5kjvj",
        "colab_type": "text"
      },
      "source": [
        "*From the above graph we can see that Age and Experience are highly correlated. For the logistic regression model we should have highly correlated data, so we will drop the Experience column.*"
      ]
    },
    {
      "cell_type": "markdown",
      "metadata": {
        "id": "_EkN7qYZu4SG",
        "colab_type": "text"
      },
      "source": [
        "*Since ZIP Code has 467 unique values, it a nominal variable and hence it should be dropped.*"
      ]
    },
    {
      "cell_type": "markdown",
      "metadata": {
        "id": "ogE3yGyclZLg",
        "colab_type": "text"
      },
      "source": [
        "*Also the customer ID variable is noisy data and is irrelevant as it dosen't help our model in any way. So, we will also drop customer ID column.*"
      ]
    },
    {
      "cell_type": "markdown",
      "metadata": {
        "id": "whSehVFmmTX1",
        "colab_type": "text"
      },
      "source": [
        "**Dropping irrelevant columns**"
      ]
    },
    {
      "cell_type": "code",
      "metadata": {
        "id": "1u9rtoilM_ya",
        "colab_type": "code",
        "colab": {}
      },
      "source": [
        "df=df.drop(['ID','ZIP Code','Experience'],axis=1)\n",
        "df.info"
      ],
      "execution_count": null,
      "outputs": []
    },
    {
      "cell_type": "code",
      "metadata": {
        "id": "3tA-R9faRjWl",
        "colab_type": "code",
        "colab": {}
      },
      "source": [
        "# Checking skewness values of all variables to detect any outliers.\n",
        "df.skew()"
      ],
      "execution_count": null,
      "outputs": []
    },
    {
      "cell_type": "markdown",
      "metadata": {
        "id": "yzu7XF0BKWdK",
        "colab_type": "text"
      },
      "source": [
        "# **3- EDA (Exploratory Data Analysis)**"
      ]
    },
    {
      "cell_type": "markdown",
      "metadata": {
        "id": "OZ7Je1jrnmyX",
        "colab_type": "text"
      },
      "source": [
        " **Displaying number of unique values in each column.**"
      ]
    },
    {
      "cell_type": "code",
      "metadata": {
        "id": "sMsQE2s82wMF",
        "colab_type": "code",
        "colab": {}
      },
      "source": [
        "for i in ['Age','Income','Family','CCAvg','Education','Mortgage','Personal Loan','Securities Account','CD Account','Online','CreditCard']:\n",
        "  print(i,':',df[i].nunique())"
      ],
      "execution_count": null,
      "outputs": []
    },
    {
      "cell_type": "code",
      "metadata": {
        "id": "HQhKdWH5OmB6",
        "colab_type": "code",
        "colab": {}
      },
      "source": [
        "# Displaying the number of bank customers with zero mortgage.\n",
        "print('Number of people with zero mortgage:',len(df[df['Mortgage']==0]))\n",
        "\n",
        "# Displays the number of customers with zero credit card spending per month.\n",
        "print('\\nNumber of people with zero credit card spending per month:',len(df[df['CCAvg']==0]))"
      ],
      "execution_count": null,
      "outputs": []
    },
    {
      "cell_type": "markdown",
      "metadata": {
        "id": "SSbKMq-Enw7z",
        "colab_type": "text"
      },
      "source": [
        "**Value counts of categorical columns.**"
      ]
    },
    {
      "cell_type": "code",
      "metadata": {
        "id": "FIIr39nGtUok",
        "colab_type": "code",
        "colab": {}
      },
      "source": [
        "print('Value counts of all categorical data:')\n",
        "for i in (['Family','Education','Securities Account','CD Account','Online','CreditCard']):\n",
        "  print('\\n',i,':')\n",
        "  print(df[i].value_counts())\n"
      ],
      "execution_count": null,
      "outputs": []
    },
    {
      "cell_type": "markdown",
      "metadata": {
        "id": "MAPuHFWlfP3i",
        "colab_type": "text"
      },
      "source": [
        "**Univariate analysis** "
      ]
    },
    {
      "cell_type": "markdown",
      "metadata": {
        "id": "Di02jwOIoCD_",
        "colab_type": "text"
      },
      "source": [
        "*Let us take a look at the graphs of different variables.*"
      ]
    },
    {
      "cell_type": "code",
      "metadata": {
        "id": "7sDZmzpx89Lg",
        "colab_type": "code",
        "colab": {}
      },
      "source": [
        "plt.pie(df['Education'].value_counts(),startangle=90,labels=['1','3','2'],autopct='%1.1f%%')\n",
        "plt.title('Pie-chart for educatedness of customers')\n",
        "plt.show()"
      ],
      "execution_count": null,
      "outputs": []
    },
    {
      "cell_type": "code",
      "metadata": {
        "id": "yseofrnRMTY8",
        "colab_type": "code",
        "colab": {}
      },
      "source": [
        "# Graph of the income details of customers.\n",
        "sns.distplot(df['Income'],color='Blue')\n",
        "plt.title('Income')\n",
        "plt.show()"
      ],
      "execution_count": null,
      "outputs": []
    },
    {
      "cell_type": "code",
      "metadata": {
        "id": "BQWm6NRVS1zL",
        "colab_type": "code",
        "colab": {}
      },
      "source": [
        "# Average credit card spending of customer graph.\n",
        "sns.distplot(df['CCAvg'],color='Black')\n",
        "plt.title('CCAvg')\n",
        "plt.show()"
      ],
      "execution_count": null,
      "outputs": []
    },
    {
      "cell_type": "code",
      "metadata": {
        "id": "IBdVJ_pxgtVF",
        "colab_type": "code",
        "colab": {}
      },
      "source": [
        "# Graph on the mortgage of customers.\n",
        "sns.distplot(df['Mortgage'])\n",
        "plt.title(\"Mortgage\")\n",
        "plt.show()"
      ],
      "execution_count": null,
      "outputs": []
    },
    {
      "cell_type": "code",
      "metadata": {
        "id": "szxyKeQ3h5BP",
        "colab_type": "code",
        "colab": {}
      },
      "source": [
        "# Histogram of the ages of customers.\n",
        "plt.hist(df['Age'],bins=10,color='Green')\n",
        "plt.xlabel('Age')\n",
        "plt.show()"
      ],
      "execution_count": null,
      "outputs": []
    },
    {
      "cell_type": "code",
      "metadata": {
        "id": "IDA8f8i9i3jF",
        "colab_type": "code",
        "colab": {}
      },
      "source": [
        "# Histogram for the number of customers having credit cards.\n",
        "plt.figure(figsize=(5,5))\n",
        "plt.hist(df.CreditCard,density=True,color='Pink')\n",
        "plt.show()"
      ],
      "execution_count": null,
      "outputs": []
    },
    {
      "cell_type": "markdown",
      "metadata": {
        "id": "-Z4MDZ52mwgK",
        "colab_type": "text"
      },
      "source": [
        "**Examining our Target variable**"
      ]
    },
    {
      "cell_type": "code",
      "metadata": {
        "id": "3Iw4B5IfAiZY",
        "colab_type": "code",
        "colab": {}
      },
      "source": [
        "# Pie-chart representing percentage of customers getting Personal Loans.\n",
        "plt.pie(df['Personal Loan'].value_counts(),autopct=\"%1.1f%%\",startangle=70)\n",
        "plt.show()"
      ],
      "execution_count": null,
      "outputs": []
    },
    {
      "cell_type": "markdown",
      "metadata": {
        "id": "ziQYYRPk0knt",
        "colab_type": "text"
      },
      "source": [
        "*Thus only 9.8% of our customers are eligible for getting a Personal Loan from ourr bank.*"
      ]
    },
    {
      "cell_type": "markdown",
      "metadata": {
        "id": "N8DYCaetkMYR",
        "colab_type": "text"
      },
      "source": [
        "**Bivariate/Multivariate analysis**"
      ]
    },
    {
      "cell_type": "code",
      "metadata": {
        "id": "vXdTv6DMkTGs",
        "colab_type": "code",
        "colab": {}
      },
      "source": [
        "# Box plot of Family, Income and Personal Loan of customer.\n",
        "plt.style.use('ggplot')\n",
        "f=df.loc[df['Personal Loan'].isin(['0','1'])]\n",
        "sns.boxplot(df.Family,df.Income,hue=df['Personal Loan'],data=f)\n",
        "plt.show()"
      ],
      "execution_count": null,
      "outputs": []
    },
    {
      "cell_type": "code",
      "metadata": {
        "id": "aUlWbNCvvAUz",
        "colab_type": "code",
        "colab": {}
      },
      "source": [
        "# Box plot between Family and Average credit card spendings per month.\n",
        "sns.boxplot(df.Family,df.CCAvg)\n",
        "plt.show()"
      ],
      "execution_count": null,
      "outputs": []
    },
    {
      "cell_type": "code",
      "metadata": {
        "id": "HwzOxlX7wGTj",
        "colab_type": "code",
        "colab": {}
      },
      "source": [
        "# Plotting a heatmap of all variables of our dataset.\n",
        "plt.figure(figsize=(15,10))\n",
        "sns.heatmap(df.corr(),linewidth=0.5,annot=True)\n"
      ],
      "execution_count": null,
      "outputs": []
    },
    {
      "cell_type": "code",
      "metadata": {
        "id": "F4RobHvu88PE",
        "colab_type": "code",
        "colab": {}
      },
      "source": [
        "# Plotting graphs between all variables.\n",
        "sns.pairplot(df,diag_kind='kde')"
      ],
      "execution_count": null,
      "outputs": []
    },
    {
      "cell_type": "markdown",
      "metadata": {
        "id": "7tNH1CJn-vvy",
        "colab_type": "text"
      },
      "source": [
        "# **4- Feature Engineering**"
      ]
    },
    {
      "cell_type": "code",
      "metadata": {
        "id": "RoKjNfPZ-5kX",
        "colab_type": "code",
        "colab": {}
      },
      "source": [
        "# Checking the skewness values of all columns.\n",
        "df.skew()"
      ],
      "execution_count": null,
      "outputs": []
    },
    {
      "cell_type": "markdown",
      "metadata": {
        "id": "YxQNV9jk_7OQ",
        "colab_type": "text"
      },
      "source": [
        "*From our EDA that CCAvg and Mortgage have skewness values > 1, hence are showing rightly skewed. For Machine Learning models we need our features to have a Gaussian distrubution.*"
      ]
    },
    {
      "cell_type": "markdown",
      "metadata": {
        "id": "b8Wv6UaGo9T1",
        "colab_type": "text"
      },
      "source": [
        "*We will apply neccessary transformations to convert the skewed data into a Gaussian or Normal distribution.*"
      ]
    },
    {
      "cell_type": "markdown",
      "metadata": {
        "id": "Tsp7KZLrAmVj",
        "colab_type": "text"
      },
      "source": [
        "*For a normally distributed variable we must have skewness value between -1 and 1.*"
      ]
    },
    {
      "cell_type": "markdown",
      "metadata": {
        "id": "QJwoQv9RBoO7",
        "colab_type": "text"
      },
      "source": [
        "**Applying Yeo-Johnson Power transformation on CCAvg and Income columns.**"
      ]
    },
    {
      "cell_type": "code",
      "metadata": {
        "id": "-WdPcDGnZNZ_",
        "colab_type": "code",
        "colab": {}
      },
      "source": [
        "# Applying Yeo-Jhonson power transformation on Income column.\n",
        "ptransform_1=PowerTransformer(method='yeo-johnson',standardize=False)\n",
        "ptransform_1.fit(df['Income'].values.reshape(-1,1))\n",
        "df['Income']=ptransform_1.transform(df['Income'].values.reshape(-1,1))\n",
        "sns.distplot(df['Income'])"
      ],
      "execution_count": null,
      "outputs": []
    },
    {
      "cell_type": "code",
      "metadata": {
        "id": "bWKxMgnP9Z-9",
        "colab_type": "code",
        "colab": {}
      },
      "source": [
        "# Applying Yeo-Jhonson power transformation on CCAvg column.\n",
        "ptransform_2=PowerTransformer(method='yeo-johnson', standardize=False)\n",
        "ptransform_2.fit_transform(df['CCAvg'].values.reshape(-1,1))\n",
        "df['CCAvg']=ptransform_2.transform(df['CCAvg'].values.reshape(-1,1))\n",
        "sns.distplot(df.CCAvg)"
      ],
      "execution_count": null,
      "outputs": []
    },
    {
      "cell_type": "markdown",
      "metadata": {
        "id": "SuXOh1XzgFZ1",
        "colab_type": "text"
      },
      "source": [
        "*Now, both the Income and CCAvg column have slightly better distributions.*"
      ]
    },
    {
      "cell_type": "code",
      "metadata": {
        "id": "YtsRhUocUO3B",
        "colab_type": "code",
        "colab": {}
      },
      "source": [
        "Y=df['Personal Loan']\n",
        "X=df.drop('Personal Loan',axis=1)"
      ],
      "execution_count": null,
      "outputs": []
    },
    {
      "cell_type": "code",
      "metadata": {
        "id": "GttbPUmSTG7A",
        "colab_type": "code",
        "colab": {}
      },
      "source": [
        "# Plotting graph for Mortgage.\n",
        "sns.distplot(X['Mortgage'])"
      ],
      "execution_count": null,
      "outputs": []
    },
    {
      "cell_type": "markdown",
      "metadata": {
        "id": "_NqhtK1iTVd3",
        "colab_type": "text"
      },
      "source": [
        "*From the graph of Mortgage above we can see that there is discontinuity in our graph. We do not want a discontinuous distribution, thus we will apply binning on our Mortgage column.*"
      ]
    },
    {
      "cell_type": "markdown",
      "metadata": {
        "id": "IUWGtF54UGGF",
        "colab_type": "text"
      },
      "source": [
        "*Binning method is used for smoothing of data or to handle noisy data. In this method, the data is first sorted and then the sorted values are distributed into a number of buckets or bins.*"
      ]
    },
    {
      "cell_type": "code",
      "metadata": {
        "id": "aEfaV7GMUV54",
        "colab_type": "code",
        "colab": {}
      },
      "source": [
        "# We apply binning on Mortgage column.\n",
        "X['Mortgage_val']=pd.cut(X['Mortgage'],bins=[0,100,200,300,400,500,600,700],labels=[0,1,2,3,4,5,6],include_lowest=True)\n",
        "X.drop(['Mortgage'],axis=1,inplace=True)\n",
        "X.head()"
      ],
      "execution_count": null,
      "outputs": []
    },
    {
      "cell_type": "code",
      "metadata": {
        "id": "e16XMZ-46Jmy",
        "colab_type": "code",
        "colab": {}
      },
      "source": [
        "df.describe()"
      ],
      "execution_count": null,
      "outputs": []
    },
    {
      "cell_type": "markdown",
      "metadata": {
        "id": "LH3aNI42dU1S",
        "colab_type": "text"
      },
      "source": [
        "**Scaling our data**"
      ]
    },
    {
      "cell_type": "markdown",
      "metadata": {
        "id": "6s8V5wEXUzN8",
        "colab_type": "text"
      },
      "source": [
        "*The data shows us that there is highly varying magnitudes of all coulumns. We need to scale our data, otherwise our machine learning algorithm tends to weigh greater values, higher and consider smaller values as the lower values, regardless of the unit of the values.*"
      ]
    },
    {
      "cell_type": "markdown",
      "metadata": {
        "id": "qIZVAVhMdRvB",
        "colab_type": "text"
      },
      "source": [
        "*Feature Scaling is a technique to standardize the independent features present in the data in a fixed range. *"
      ]
    },
    {
      "cell_type": "code",
      "metadata": {
        "id": "PmERYg6xYexc",
        "colab_type": "code",
        "colab": {}
      },
      "source": [
        "from sklearn.preprocessing import MinMaxScaler\n",
        "from pandas import DataFrame\n",
        "trans=MinMaxScaler()\n",
        "dataset=trans.fit_transform(X)\n",
        "X=DataFrame(dataset)"
      ],
      "execution_count": null,
      "outputs": []
    },
    {
      "cell_type": "markdown",
      "metadata": {
        "id": "H0YHegmsRtFw",
        "colab_type": "text"
      },
      "source": [
        "*We do not need to transform variables Personal Loan, Securities Account and CD Account as they are categorical variables.*"
      ]
    },
    {
      "cell_type": "markdown",
      "metadata": {
        "id": "5QxI6OmETqtS",
        "colab_type": "text"
      },
      "source": [
        "# **5- Training our model**"
      ]
    },
    {
      "cell_type": "markdown",
      "metadata": {
        "id": "QG9PahQ1W2fR",
        "colab_type": "text"
      },
      "source": [
        "**1- Logistic Regression model**"
      ]
    },
    {
      "cell_type": "markdown",
      "metadata": {
        "id": "PA_iHwecel7V",
        "colab_type": "text"
      },
      "source": [
        "**Splitting dataset into Train and Test data**"
      ]
    },
    {
      "cell_type": "markdown",
      "metadata": {
        "id": "mgUygiUdez9C",
        "colab_type": "text"
      },
      "source": [
        "*We will split our dataset into train and test data in the ratio; 70% training data and 30% test data. Then we will use our model to make predictions.*"
      ]
    },
    {
      "cell_type": "code",
      "metadata": {
        "id": "G8Url8I7cYxz",
        "colab_type": "code",
        "colab": {}
      },
      "source": [
        "# Splitting the dataset into train and test data.\n",
        "x_train,x_test,y_train,y_test=train_test_split(X,Y,test_size=0.3,stratify=Y,random_state=0)"
      ],
      "execution_count": null,
      "outputs": []
    },
    {
      "cell_type": "code",
      "metadata": {
        "id": "3EyQmT_AopOx",
        "colab_type": "code",
        "colab": {}
      },
      "source": [
        "Y.value_counts()"
      ],
      "execution_count": null,
      "outputs": []
    },
    {
      "cell_type": "markdown",
      "metadata": {
        "id": "Gc-A1wD7fK6d",
        "colab_type": "text"
      },
      "source": [
        "**Training and Testing our Logistic Regression model.**"
      ]
    },
    {
      "cell_type": "code",
      "metadata": {
        "id": "YHQV38qhhBm_",
        "colab_type": "code",
        "colab": {}
      },
      "source": [
        "logistic_regression=LogisticRegression()\n",
        "logistic_regression.fit(x_train,y_train)"
      ],
      "execution_count": null,
      "outputs": []
    },
    {
      "cell_type": "code",
      "metadata": {
        "id": "k23VV7Xn7JlR",
        "colab_type": "code",
        "colab": {}
      },
      "source": [
        "# Testing our Logistic Regression model.\n",
        "y_pred=logistic_regression.predict(x_test)"
      ],
      "execution_count": null,
      "outputs": []
    },
    {
      "cell_type": "markdown",
      "metadata": {
        "id": "cpYrX7_mZ98Z",
        "colab_type": "text"
      },
      "source": [
        "**Evaluation of Logistice Regression model.**"
      ]
    },
    {
      "cell_type": "markdown",
      "metadata": {
        "id": "gsdx1OXkaGWG",
        "colab_type": "text"
      },
      "source": [
        "*In this section we will evaluate our model with different parameters such as accuracy, precision, recall score, confusion matrix and ROC curve in order to mesure the performance of our model.*"
      ]
    },
    {
      "cell_type": "markdown",
      "metadata": {
        "id": "oISpSYy3gjOu",
        "colab_type": "text"
      },
      "source": [
        "**-> Test and Train dataset accuracy**"
      ]
    },
    {
      "cell_type": "code",
      "metadata": {
        "id": "Babmq0ZN-hoN",
        "colab_type": "code",
        "colab": {}
      },
      "source": [
        "# Displaying the accuracies of our model.\n",
        "print('Accuracy of Logistic Regression model:')\n",
        "print('Test data accuracy:',logistic_regression.score(x_test,y_test)*100)\n",
        "print('Train data accuracy:',logistic_regression.score(x_train,y_train)*100)"
      ],
      "execution_count": null,
      "outputs": []
    },
    {
      "cell_type": "markdown",
      "metadata": {
        "id": "_-m6KYHxazBH",
        "colab_type": "text"
      },
      "source": [
        "*Thus our model has an accuracy of 95.53% on test dataset and an accuracy of 95.34% on train dataset.*"
      ]
    },
    {
      "cell_type": "markdown",
      "metadata": {
        "id": "z310CWyjg8vk",
        "colab_type": "text"
      },
      "source": [
        "**-> Precision, Recall and F1 scores**"
      ]
    },
    {
      "cell_type": "code",
      "metadata": {
        "id": "1wnirGuXIiM0",
        "colab_type": "code",
        "colab": {}
      },
      "source": [
        "# Evaluating the scores of our model.\n",
        "print(\"Precision:\",metrics.precision_score(y_test, y_pred)*100)\n",
        "print(\"Recall:\",metrics.recall_score(y_test, y_pred)*100)\n",
        "print('F1:',metrics.f1_score(y_test,y_pred)*100)"
      ],
      "execution_count": null,
      "outputs": []
    },
    {
      "cell_type": "markdown",
      "metadata": {
        "id": "qdWlCSnDgQ8k",
        "colab_type": "text"
      },
      "source": [
        "**-> Confusion Matrix**"
      ]
    },
    {
      "cell_type": "markdown",
      "metadata": {
        "id": "z8wHYTK2f42Q",
        "colab_type": "text"
      },
      "source": [
        "*A confusion matrix is a table that is often used to describe the performance of a classification model on a set of test data for which the true values are known. The*"
      ]
    },
    {
      "cell_type": "code",
      "metadata": {
        "id": "g9nAJkW-7tKj",
        "colab_type": "code",
        "colab": {}
      },
      "source": [
        "# Making a confusion matrix.\n",
        "from sklearn import metrics\n",
        "cnf_mat_1=metrics.confusion_matrix(y_test,y_pred)\n",
        "print(cnf_mat_1)\n"
      ],
      "execution_count": null,
      "outputs": []
    },
    {
      "cell_type": "code",
      "metadata": {
        "id": "aiup-CmiH98e",
        "colab_type": "code",
        "colab": {}
      },
      "source": [
        "# Count of test data.\n",
        "y_test.count()"
      ],
      "execution_count": null,
      "outputs": []
    },
    {
      "cell_type": "code",
      "metadata": {
        "id": "g58-jkUP-ySW",
        "colab_type": "code",
        "colab": {}
      },
      "source": [
        "fig, ax = plt.subplots()\n",
        "sns.heatmap(cnf_mat_1,annot=True,cmap=\"YlGnBu\",fmt='.2f')\n",
        "ax.xaxis.set_label_position(\"top\")\n",
        "plt.xlabel('Predicted values')\n",
        "plt.ylabel('Actual values')\n",
        "plt.title('Confusion Matrix')\n",
        "plt.tight_layout()\n"
      ],
      "execution_count": null,
      "outputs": []
    },
    {
      "cell_type": "markdown",
      "metadata": {
        "id": "W2xAGFhRbXie",
        "colab_type": "text"
      },
      "source": [
        "*From the confusion matrix we observe that our model is predicting 1348 True Positives and 85 True Negative predictions. Which means our model makes 1348 + 85= 1433 correct predictions out of 1500.*"
      ]
    },
    {
      "cell_type": "markdown",
      "metadata": {
        "id": "Qd6EE4mte9gU",
        "colab_type": "text"
      },
      "source": [
        "*It also shows us that our model makes 59 + 8 = 67 wrong predictions.*"
      ]
    },
    {
      "cell_type": "markdown",
      "metadata": {
        "id": "nxDvlGmmfe0B",
        "colab_type": "text"
      },
      "source": [
        "*From the above accuracy, precision and recall scores we can observe that our model has high accuracy and precision and is working really well in making predictions.*"
      ]
    },
    {
      "cell_type": "markdown",
      "metadata": {
        "id": "ifA1yXxKhHXW",
        "colab_type": "text"
      },
      "source": [
        "**-> ROC Curve**"
      ]
    },
    {
      "cell_type": "markdown",
      "metadata": {
        "id": "acWnOD9lZSh6",
        "colab_type": "text"
      },
      "source": [
        "*Receiver Operating Characteristic(ROC) curve is a plot of the true positive rate against the false positive rate. It shows the tradeoff between sensitivity and specificity.*"
      ]
    },
    {
      "cell_type": "code",
      "metadata": {
        "id": "yi5uTKtgXlag",
        "colab_type": "code",
        "colab": {}
      },
      "source": [
        "y_pred_proba = logistic_regression.predict_proba(x_test)[::,1]\n",
        "fpr,tpr,_=metrics.roc_curve(y_test,  y_pred_proba)\n",
        "auc = metrics.roc_auc_score(y_test, y_pred_proba)\n",
        "plt.plot(fpr,tpr,label=\"data 1, auc=\"+str(auc))\n",
        "plt.xlabel('False Positive')\n",
        "plt.ylabel('True Positive')\n",
        "plt.legend(loc=4)\n",
        "plt.show()"
      ],
      "execution_count": null,
      "outputs": []
    },
    {
      "cell_type": "markdown",
      "metadata": {
        "id": "wIXyGTx6Zhw4",
        "colab_type": "text"
      },
      "source": [
        "*AUC score for our Logistic Regression model is 0.96. AUC score 1 represents perfect classifier, and 0.5 represents a worthless classifier.*"
      ]
    },
    {
      "cell_type": "markdown",
      "metadata": {
        "id": "0_aL-KFK1c4g",
        "colab_type": "text"
      },
      "source": [
        "# **6- Building various other classification algorithms**"
      ]
    },
    {
      "cell_type": "markdown",
      "metadata": {
        "id": "E6QNNCIO1no0",
        "colab_type": "text"
      },
      "source": [
        "**2- Decision Tree model**"
      ]
    },
    {
      "cell_type": "code",
      "metadata": {
        "id": "nRHr9iTu1u8c",
        "colab_type": "code",
        "colab": {}
      },
      "source": [
        "des_tree=DecisionTreeClassifier(random_state=0,max_depth=8)\n",
        "des_tree=des_tree.fit(x_train,y_train)\n",
        "y_pred_dt=des_tree.predict(x_test)"
      ],
      "execution_count": null,
      "outputs": []
    },
    {
      "cell_type": "markdown",
      "metadata": {
        "id": "fjttYsb0XNhI",
        "colab_type": "text"
      },
      "source": [
        "**-> Test and Train dataset accuracy**"
      ]
    },
    {
      "cell_type": "code",
      "metadata": {
        "id": "WQP4lDdPLHTl",
        "colab_type": "code",
        "colab": {}
      },
      "source": [
        "print('Accuracy scores of Descision Tree model:')\n",
        "print('Train data accuracy:',des_tree.score(x_train,y_train)*100)\n",
        "print('Train data accuracy:',des_tree.score(x_test,y_test)*100)"
      ],
      "execution_count": null,
      "outputs": []
    },
    {
      "cell_type": "markdown",
      "metadata": {
        "id": "Yl-OPFGEUGIR",
        "colab_type": "text"
      },
      "source": [
        "The Decision Tree model has an accuracy of 99.57%, which is better than the Logistic Regression model."
      ]
    },
    {
      "cell_type": "markdown",
      "metadata": {
        "id": "RezFBXNpXR8y",
        "colab_type": "text"
      },
      "source": [
        "**-> Precision, Recall and F1 scores**"
      ]
    },
    {
      "cell_type": "code",
      "metadata": {
        "id": "PrpKqfTOXb4l",
        "colab_type": "code",
        "colab": {}
      },
      "source": [
        "print(\"Precision:\",metrics.precision_score(y_test, y_pred_dt)*100)\n",
        "print(\"Recall:\",metrics.recall_score(y_test, y_pred_dt)*100)\n",
        "print('F1:',metrics.f1_score(y_test,y_pred_dt)*100)"
      ],
      "execution_count": null,
      "outputs": []
    },
    {
      "cell_type": "markdown",
      "metadata": {
        "id": "rNcmwmbqMSyd",
        "colab_type": "text"
      },
      "source": [
        "**-> Confusion Matrix**"
      ]
    },
    {
      "cell_type": "code",
      "metadata": {
        "id": "BpsLOfBiaMyR",
        "colab_type": "code",
        "colab": {}
      },
      "source": [
        "cnf_mat_2=metrics.confusion_matrix(y_test,y_pred_dt)\n",
        "print(cnf_mat_2)"
      ],
      "execution_count": null,
      "outputs": []
    },
    {
      "cell_type": "code",
      "metadata": {
        "id": "VoAIgIqQaqx4",
        "colab_type": "code",
        "colab": {}
      },
      "source": [
        "fig_2, ax_2 = plt.subplots()\n",
        "sns.heatmap(cnf_mat_2,annot=True,cmap=\"YlGnBu\",fmt='.2f')\n",
        "ax_2.xaxis.set_label_position(\"top\")\n",
        "plt.xlabel('Predicted values')\n",
        "plt.ylabel('Actual values')\n",
        "plt.title('Confusion Matrix')\n",
        "plt.tight_layout()"
      ],
      "execution_count": null,
      "outputs": []
    },
    {
      "cell_type": "markdown",
      "metadata": {
        "id": "vYVNPvjJUe7s",
        "colab_type": "text"
      },
      "source": [
        "From the confusion matrix we observe that the Decision Tree model has 1342 True Positives and 131 True Negatives. i.e it makes 1342 + 131 = 1473 correct predictions. "
      ]
    },
    {
      "cell_type": "markdown",
      "metadata": {
        "id": "V1IG3KWyV320",
        "colab_type": "text"
      },
      "source": [
        "Also, the model predicts only 13 False Positives."
      ]
    },
    {
      "cell_type": "markdown",
      "metadata": {
        "id": "aJ-yA02QMWiP",
        "colab_type": "text"
      },
      "source": [
        "**-> ROC Curve**"
      ]
    },
    {
      "cell_type": "code",
      "metadata": {
        "id": "Qr5zbfb1bpt9",
        "colab_type": "code",
        "colab": {}
      },
      "source": [
        "y_pred_proba2 = des_tree.predict_proba(x_test)[::,1]\n",
        "fpr2,tpr2,_=metrics.roc_curve(y_test,  y_pred_proba2)\n",
        "auc2 = metrics.roc_auc_score(y_test, y_pred_proba2)\n",
        "plt.plot(fpr2,tpr2,label=\"data 1, auc=\"+str(auc2))\n",
        "plt.xlabel('False Positive')\n",
        "plt.ylabel('True Positive')\n",
        "plt.legend(loc=4)\n",
        "plt.show()"
      ],
      "execution_count": null,
      "outputs": []
    },
    {
      "cell_type": "markdown",
      "metadata": {
        "id": "4CtlghHqcHNz",
        "colab_type": "text"
      },
      "source": [
        "*AUC score for our Decision Tree model is 0.95.*"
      ]
    },
    {
      "cell_type": "markdown",
      "metadata": {
        "id": "31rwRgplHIVf",
        "colab_type": "text"
      },
      "source": [
        "**3- Random Forest Classifier**"
      ]
    },
    {
      "cell_type": "code",
      "metadata": {
        "id": "9KTSD_irHFdg",
        "colab_type": "code",
        "colab": {}
      },
      "source": [
        "rand_for=RandomForestClassifier(random_state=0,n_estimators=500,max_depth=8)\n",
        "rand_for=rand_for.fit(x_train,y_train)\n",
        "y_pred_rf=rand_for.predict(x_test)"
      ],
      "execution_count": null,
      "outputs": []
    },
    {
      "cell_type": "markdown",
      "metadata": {
        "id": "nms6RTPXLwHF",
        "colab_type": "text"
      },
      "source": [
        "**-> Test and Train dataset accuracy**"
      ]
    },
    {
      "cell_type": "code",
      "metadata": {
        "id": "8gTPwW-IJxCk",
        "colab_type": "code",
        "colab": {}
      },
      "source": [
        "print('Accuracy scores of Random Forest Classifier:')\n",
        "print('Train data accuracy:',rand_for.score(x_train,y_train)*100)\n",
        "print('Test data accuracy:',rand_for.score(x_test,y_test)*100)\n"
      ],
      "execution_count": null,
      "outputs": []
    },
    {
      "cell_type": "markdown",
      "metadata": {
        "id": "ZLPSswGyL0TT",
        "colab_type": "text"
      },
      "source": [
        "**-> Precision, Recall and F1 scores**"
      ]
    },
    {
      "cell_type": "code",
      "metadata": {
        "id": "f9PxRMTtJ6cH",
        "colab_type": "code",
        "colab": {}
      },
      "source": [
        "print(\"Precision:\",metrics.precision_score(y_test, y_pred_rf)*100)\n",
        "print(\"Recall:\",metrics.recall_score(y_test, y_pred_rf)*100)\n",
        "print('F1:',metrics.f1_score(y_test,y_pred_rf)*100)"
      ],
      "execution_count": null,
      "outputs": []
    },
    {
      "cell_type": "markdown",
      "metadata": {
        "id": "0LgAJKQPMjTB",
        "colab_type": "text"
      },
      "source": [
        "**-> Confusion Matrix**"
      ]
    },
    {
      "cell_type": "code",
      "metadata": {
        "id": "vKOQhNn7KhyD",
        "colab_type": "code",
        "colab": {}
      },
      "source": [
        "cnf_mat_3=metrics.confusion_matrix(y_test,y_pred_rf)\n",
        "print(cnf_mat_3)"
      ],
      "execution_count": null,
      "outputs": []
    },
    {
      "cell_type": "code",
      "metadata": {
        "id": "7FaEEzz3K1M6",
        "colab_type": "code",
        "colab": {}
      },
      "source": [
        "fig_3, ax_3 = plt.subplots()\n",
        "sns.heatmap(cnf_mat_3,annot=True,cmap=\"YlGnBu\",fmt='.2f')\n",
        "ax_3.xaxis.set_label_position(\"top\")\n",
        "plt.xlabel('Predicted values')\n",
        "plt.ylabel('Actual values')\n",
        "plt.title('Confusion Matrix')\n",
        "plt.tight_layout()"
      ],
      "execution_count": null,
      "outputs": []
    },
    {
      "cell_type": "markdown",
      "metadata": {
        "id": "VCW32aQqVWBT",
        "colab_type": "text"
      },
      "source": [
        "From the confusion matrix we observe that the Random Forest Classifier has 1354 True Positives and 127 True Negatives"
      ]
    },
    {
      "cell_type": "markdown",
      "metadata": {
        "id": "n1sVs1_SVic8",
        "colab_type": "text"
      },
      "source": [
        "Also, the model predicts 17 false Positives which is less than Logistic Regression model."
      ]
    },
    {
      "cell_type": "markdown",
      "metadata": {
        "id": "nX3EjUYbMeFC",
        "colab_type": "text"
      },
      "source": [
        "**-> ROC Curve**"
      ]
    },
    {
      "cell_type": "code",
      "metadata": {
        "id": "kv8syf6pK-7P",
        "colab_type": "code",
        "colab": {}
      },
      "source": [
        "y_pred_proba3 = rand_for.predict_proba(x_test)[::,1]\n",
        "fpr3,tpr3,_=metrics.roc_curve(y_test,  y_pred_proba3)\n",
        "auc3 = metrics.roc_auc_score(y_test, y_pred_proba3)\n",
        "plt.plot(fpr3,tpr3,label=\"data 1, auc=\"+str(auc3))\n",
        "plt.xlabel('False Positive')\n",
        "plt.ylabel('True Positive')\n",
        "plt.legend(loc=4)\n",
        "plt.show()"
      ],
      "execution_count": null,
      "outputs": []
    },
    {
      "cell_type": "markdown",
      "metadata": {
        "id": "ivfzTOn9LcHQ",
        "colab_type": "text"
      },
      "source": [
        "*AUC score for our Random Forest Classifier is 0.99.*"
      ]
    },
    {
      "cell_type": "markdown",
      "metadata": {
        "id": "-UGgz9HAWH8q",
        "colab_type": "text"
      },
      "source": [
        "# **7- Compairing the performance of our models**"
      ]
    },
    {
      "cell_type": "markdown",
      "metadata": {
        "id": "ADlwGEQJtcAX",
        "colab_type": "text"
      },
      "source": [
        "*Creating a function to display performance parameters of all models.*"
      ]
    },
    {
      "cell_type": "code",
      "metadata": {
        "id": "DS4JxRTfnMym",
        "colab_type": "code",
        "colab": {}
      },
      "source": [
        "from sklearn.model_selection import cross_validate\n",
        "def models_evaluation(x,y,folds):    \n",
        "    log = cross_validate(logistic_regression, X, y, cv=folds)\n",
        "    dtr = cross_validate(des_tree, X, y, cv=folds)\n",
        "    rfc = cross_validate(rand_for, X, y, cv=folds)\n",
        "\n",
        "    # Create a data frame with the models perfoamnce metrics scores\n",
        "    models_scores_table = pd.DataFrame({'Logistic Regression':[logistic_regression.score(x_train,y_train)*100,\n",
        "                                                               logistic_regression.score(x_test,y_test)*100,\n",
        "                                                               metrics.recall_score(y_test, y_pred)*100,\n",
        "                                                               metrics.f1_score(y_test,y_pred)*100,\n",
        "                                                               auc*100],\n",
        "                                                                             \n",
        "                                      'Decision Tree':[des_tree.score(x_train,y_train)*100,\n",
        "                                                       des_tree.score(x_test,y_test)*100,\n",
        "                                                       metrics.recall_score(y_pred,y_pred_dt)*100,\n",
        "                                                       metrics.f1_score(y_test,y_pred_dt)*100,\n",
        "                                                       auc2*100],\n",
        "                                       \n",
        "                                      'Random Forest':[rand_for.score(x_train,y_train)*100,\n",
        "                                                       rand_for.score(x_test,y_test)*100,\n",
        "                                                       metrics.recall_score(y_test, y_pred_rf)*100,\n",
        "                                                       metrics.f1_score(y_test,y_pred_rf)*100,\n",
        "                                                       auc3*100]},\n",
        "                                       \n",
        "                                      index=['Accuracy', 'Precision', 'Recall', 'F1 Score','AUC Score'],\n",
        "                                      columns=['Logistic Regression','Decision Tree','Random Forest'])\n",
        "    \n",
        "    # Add 'Best Score' column\n",
        "    models_scores_table['Best Score'] = models_scores_table.idxmax(axis=1)\n",
        "    \n",
        "    # Return models performance metrics scores data frame\n",
        "    return(models_scores_table)"
      ],
      "execution_count": null,
      "outputs": []
    },
    {
      "cell_type": "code",
      "metadata": {
        "id": "eMWg58j-rj0l",
        "colab_type": "code",
        "colab": {}
      },
      "source": [
        "models_evaluation(X, Y, 3)"
      ],
      "execution_count": null,
      "outputs": []
    },
    {
      "cell_type": "markdown",
      "metadata": {
        "id": "YrDbmXHEdd38",
        "colab_type": "text"
      },
      "source": [
        "*The above table shows the different scores of the models together. We observe that the Decision Tree model has the highest accuracy and recall scores, whereas the Random Forest Classifier has the best precision, F1 and AUC score.*"
      ]
    },
    {
      "cell_type": "code",
      "metadata": {
        "id": "T6pORjADeCpt",
        "colab_type": "code",
        "colab": {}
      },
      "source": [
        "# Displaying confusion matrices of all models.\n",
        "\n",
        "#Logistic Regression\n",
        "fig, ax = plt.subplots()\n",
        "sns.heatmap(cnf_mat_1,annot=True,cmap=\"YlGnBu\",fmt='.2f')\n",
        "ax.xaxis.set_label_position(\"top\")\n",
        "plt.xlabel('Predicted values')\n",
        "plt.ylabel('Actual values')\n",
        "plt.title('Logistic Regression')\n",
        "plt.tight_layout()\n",
        "\n",
        "\n",
        "#Decision Tree\n",
        "fig_2, ax_2 = plt.subplots()\n",
        "sns.heatmap(cnf_mat_2,annot=True,cmap=\"YlGnBu\",fmt='.2f')\n",
        "ax_2.xaxis.set_label_position(\"top\")\n",
        "plt.xlabel('Predicted values')\n",
        "plt.ylabel('Actual values')\n",
        "plt.title('Decision Tree')\n",
        "plt.tight_layout()\n",
        "\n",
        "\n",
        "#Random Forest\n",
        "fig_3, ax_3 = plt.subplots()\n",
        "sns.heatmap(cnf_mat_3,annot=True,cmap=\"YlGnBu\",fmt='.2f')\n",
        "ax_3.xaxis.set_label_position(\"top\")\n",
        "plt.xlabel('Predicted values')\n",
        "plt.ylabel('Actual values')\n",
        "plt.title('Random Forest')\n",
        "plt.tight_layout()"
      ],
      "execution_count": null,
      "outputs": []
    },
    {
      "cell_type": "markdown",
      "metadata": {
        "id": "1G91KmjLnMyh",
        "colab_type": "text"
      },
      "source": [
        "*Summerizing all the matrices in  a tablee.*"
      ]
    },
    {
      "cell_type": "code",
      "metadata": {
        "id": "ueDI74upgvr8",
        "colab_type": "code",
        "colab": {}
      },
      "source": [
        "matrix_table=pd.DataFrame({'Logistic Regression' : [cnf_mat_1[0,0],\n",
        "                                                    cnf_mat_1[0,1],\n",
        "                                                    cnf_mat_1[1,0],\n",
        "                                                    cnf_mat_1[1,1]],\n",
        "                           \n",
        "                           'Decision Tree'  : [cnf_mat_2[0,0],\n",
        "                                               cnf_mat_2[0,1],\n",
        "                                               cnf_mat_2[1,0],\n",
        "                                               cnf_mat_2[1,1]],\n",
        "                           \n",
        "                           'Random Forest' : [cnf_mat_3[0,0],\n",
        "                                              cnf_mat_3[0,1],\n",
        "                                              cnf_mat_3[1,0],\n",
        "                                              cnf_mat_3[1,1]]},\n",
        "                          index=['True Positive','false Positive','False Negative','True Negative'],\n",
        "                          columns=['Logistic Regression','Decision Tree','Random Forest'])\n",
        "\n",
        "print(matrix_table)"
      ],
      "execution_count": null,
      "outputs": []
    },
    {
      "cell_type": "markdown",
      "metadata": {
        "id": "0VjwIkmSnW0F",
        "colab_type": "text"
      },
      "source": [
        "*Random Forest Classifier makes the hightest number of correct predictions which is 1481 compared to 1473 of Decision Tree and 1433 of Logistic Regression.*"
      ]
    },
    {
      "cell_type": "markdown",
      "metadata": {
        "id": "7g4KQ0_2qpNX",
        "colab_type": "text"
      },
      "source": [
        "# **8- Business understanding of our model**"
      ]
    },
    {
      "cell_type": "markdown",
      "metadata": {
        "id": "5D_Qlzh1VlHf",
        "colab_type": "text"
      },
      "source": [
        "We have in total 14 variables of which 4 are continuous (Income,CCAvg,etc.), 2 are discrete (Age,Experience) and 8 are categorical (Credit Card,Securities Account,etc.)."
      ]
    },
    {
      "cell_type": "markdown",
      "metadata": {
        "id": "ai4N2OWoWyWQ",
        "colab_type": "text"
      },
      "source": [
        "We found out that ID (customer ID) coulumn was just a continuous number and hence was noisy data and wasn't helping us in any way to predict if a personal loan should be given to a particular customer. So, we droppped the ID column."
      ]
    },
    {
      "cell_type": "markdown",
      "metadata": {
        "id": "ZDreHE0EXVFD",
        "colab_type": "text"
      },
      "source": [
        "The colummns Age and Experience were highly correlated, and for a classification algorithm we should not have highly correlated columns in our data. Hence we droppped the Experience column so as to eliminate the correlation.\n",
        "![AgevExp.png](data:image/png;base64,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)"
      ]
    },
    {
      "cell_type": "markdown",
      "metadata": {
        "id": "cXR8eHGcX2O0",
        "colab_type": "text"
      },
      "source": [
        "Also from the ZIP Code we observed that it had 467 different categories which means it was a nominal variable as there was no intrinsic ordering to the categories. Thus, we had to also drop the ZIP Code column."
      ]
    },
    {
      "cell_type": "markdown",
      "metadata": {
        "id": "x8ugB0xIYgM8",
        "colab_type": "text"
      },
      "source": [
        "During univariate and multivariate analysis:"
      ]
    },
    {
      "cell_type": "markdown",
      "metadata": {
        "id": "SI-tmZE_bB8Q",
        "colab_type": "text"
      },
      "source": [
        "The Pie-chart for educatedness of customers showed us that most of our customers about 42% were undergraduates."
      ]
    },
    {
      "cell_type": "markdown",
      "metadata": {
        "id": "_f2gLMQ3cmYu",
        "colab_type": "text"
      },
      "source": [
        "Customer Income and Average credit card spending per month had rightly-skewed graphs. To have normal distributions for them we applied Yeo-Jhonson power transformations."
      ]
    },
    {
      "cell_type": "markdown",
      "metadata": {
        "id": "7teupNoreAEX",
        "colab_type": "text"
      },
      "source": [
        "Mortgage had a discontinuous graph. We don't need discontinuous graphs so we carried out binning on the mortgage column."
      ]
    },
    {
      "cell_type": "markdown",
      "metadata": {
        "id": "tJPi9g3ymzGl",
        "colab_type": "text"
      },
      "source": [
        "The confusion matrices of our models show us that the Decision Tree has the least number of False Negatives i.e the customers who are eligible for the personal loan but our model predicted that they won't get the personal loan."
      ]
    },
    {
      "cell_type": "markdown",
      "metadata": {
        "id": "lMJRed0ZnclD",
        "colab_type": "text"
      },
      "source": [
        "From a bussiness point of view the number of such should be a less as possible if you want to increase the number of borrowers and increase the success ratio for the growth of the bank."
      ]
    },
    {
      "cell_type": "markdown",
      "metadata": {
        "id": "fpzmzk_On-_T",
        "colab_type": "text"
      },
      "source": [
        "The random forest classifier has only **4 False Negative more** than the decision tree model which is not very much and also the random forest classifier make more number of correct predictions than the decision tree model."
      ]
    },
    {
      "cell_type": "markdown",
      "metadata": {
        "id": "xjm7eZBLphbe",
        "colab_type": "text"
      },
      "source": [
        "**CONCLUSION:**"
      ]
    },
    {
      "cell_type": "markdown",
      "metadata": {
        "id": "YODnUWQZoxWN",
        "colab_type": "text"
      },
      "source": [
        "Thus, we can conclude that the **Random Forest Classfier performs better** than the logistic regression and decision tree in predicting the potential customers that are more likely to take a loan which will help in the overall growth of the bank."
      ]
    }
  ]
}